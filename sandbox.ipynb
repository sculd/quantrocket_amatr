{
 "cells": [
  {
   "cell_type": "code",
   "execution_count": 44,
   "id": "b3095316-d61c-41df-adbb-8e3f89524cbe",
   "metadata": {},
   "outputs": [],
   "source": [
    "%run \"../utils/ema.py\""
   ]
  },
  {
   "cell_type": "code",
   "execution_count": 4,
   "id": "73764254-00dd-4e28-80df-28cfe8db86a1",
   "metadata": {},
   "outputs": [],
   "source": [
    "import quantrocket.master\n",
    "import pandas as pd, numpy as np\n",
    "import math\n",
    "from quantrocket import get_prices\n",
    "from collections import defaultdict"
   ]
  },
  {
   "cell_type": "code",
   "execution_count": 5,
   "id": "dccdab1d-2e0b-480d-8ec5-143456fd5cf9",
   "metadata": {},
   "outputs": [],
   "source": [
    "df_prices = get_prices(\"usstock-1d\", universes=\"usstock\", start_date=\"2017-01-01\", fields=[\"Close\"])"
   ]
  },
  {
   "cell_type": "code",
   "execution_count": 24,
   "id": "42412246-b0e1-45fc-9258-b4ec7740d891",
   "metadata": {},
   "outputs": [],
   "source": [
    "df_prices = df_prices.dropna(axis=1, thresh=100)\n",
    "df_prices = df_prices.dropna(axis=1, thresh=1000)"
   ]
  },
  {
   "cell_type": "code",
   "execution_count": 38,
   "id": "c5e892b2-7ed5-4bf2-90e0-0417bcf613b5",
   "metadata": {},
   "outputs": [],
   "source": [
    "df_close = df_prices.loc[\"Close\"]"
   ]
  },
  {
   "cell_type": "code",
   "execution_count": 7,
   "id": "fb0d455c-a660-4fb9-b4de-c71f278f4f1e",
   "metadata": {},
   "outputs": [],
   "source": [
    "sid = 'FIBBG000C2V3D6'"
   ]
  },
  {
   "cell_type": "code",
   "execution_count": 40,
   "id": "3cb8fd92-6a80-4e2b-ae15-8f1719c6262d",
   "metadata": {},
   "outputs": [],
   "source": [
    "df_sid = df_close[[sid]]"
   ]
  },
  {
   "cell_type": "code",
   "execution_count": 45,
   "id": "d2ceb28e-556e-401f-bd34-dc7e46d0385d",
   "metadata": {},
   "outputs": [],
   "source": [
    "df_ema = get_df_ema(df_sid, alpha=0.3)"
   ]
  },
  {
   "cell_type": "code",
   "execution_count": 46,
   "id": "25da1a1f-bd04-4329-90c0-917c20d04db1",
   "metadata": {},
   "outputs": [],
   "source": [
    "df_ama, df_h, df_l = get_df_ama(df_sid, alpha_min=0.3, alpha_max=0.7, beta=0.5, gamma=0.5)"
   ]
  },
  {
   "cell_type": "code",
   "execution_count": 34,
   "id": "c0c2f079-7b53-4479-8018-94a53c468ea6",
   "metadata": {},
   "outputs": [
    {
     "data": {
      "text/html": [
       "<div>\n",
       "<style scoped>\n",
       "    .dataframe tbody tr th:only-of-type {\n",
       "        vertical-align: middle;\n",
       "    }\n",
       "\n",
       "    .dataframe tbody tr th {\n",
       "        vertical-align: top;\n",
       "    }\n",
       "\n",
       "    .dataframe thead th {\n",
       "        text-align: right;\n",
       "    }\n",
       "</style>\n",
       "<table border=\"1\" class=\"dataframe\">\n",
       "  <thead>\n",
       "    <tr style=\"text-align: right;\">\n",
       "      <th>Sid</th>\n",
       "      <th>FIBBG000C2V3D6</th>\n",
       "    </tr>\n",
       "    <tr>\n",
       "      <th>Date</th>\n",
       "      <th></th>\n",
       "    </tr>\n",
       "  </thead>\n",
       "  <tbody>\n",
       "    <tr>\n",
       "      <th>2017-01-03</th>\n",
       "      <td>0.000000</td>\n",
       "    </tr>\n",
       "    <tr>\n",
       "      <th>2017-01-04</th>\n",
       "      <td>44.541900</td>\n",
       "    </tr>\n",
       "    <tr>\n",
       "      <th>2017-01-05</th>\n",
       "      <td>44.462488</td>\n",
       "    </tr>\n",
       "    <tr>\n",
       "      <th>2017-01-06</th>\n",
       "      <td>45.155319</td>\n",
       "    </tr>\n",
       "    <tr>\n",
       "      <th>2017-01-09</th>\n",
       "      <td>45.658553</td>\n",
       "    </tr>\n",
       "    <tr>\n",
       "      <th>...</th>\n",
       "      <td>...</td>\n",
       "    </tr>\n",
       "    <tr>\n",
       "      <th>2023-02-16</th>\n",
       "      <td>150.721639</td>\n",
       "    </tr>\n",
       "    <tr>\n",
       "      <th>2023-02-17</th>\n",
       "      <td>150.275121</td>\n",
       "    </tr>\n",
       "    <tr>\n",
       "      <th>2023-02-21</th>\n",
       "      <td>NaN</td>\n",
       "    </tr>\n",
       "    <tr>\n",
       "      <th>2023-02-22</th>\n",
       "      <td>NaN</td>\n",
       "    </tr>\n",
       "    <tr>\n",
       "      <th>2023-02-23</th>\n",
       "      <td>NaN</td>\n",
       "    </tr>\n",
       "  </tbody>\n",
       "</table>\n",
       "<p>1546 rows × 1 columns</p>\n",
       "</div>"
      ],
      "text/plain": [
       "Sid         FIBBG000C2V3D6\n",
       "Date                      \n",
       "2017-01-03        0.000000\n",
       "2017-01-04       44.541900\n",
       "2017-01-05       44.462488\n",
       "2017-01-06       45.155319\n",
       "2017-01-09       45.658553\n",
       "...                    ...\n",
       "2023-02-16      150.721639\n",
       "2023-02-17      150.275121\n",
       "2023-02-21             NaN\n",
       "2023-02-22             NaN\n",
       "2023-02-23             NaN\n",
       "\n",
       "[1546 rows x 1 columns]"
      ]
     },
     "execution_count": 34,
     "metadata": {},
     "output_type": "execute_result"
    }
   ],
   "source": [
    "df_h"
   ]
  },
  {
   "cell_type": "code",
   "execution_count": 49,
   "id": "ab0c66eb-2bfe-4f47-94ad-22f5b02e0714",
   "metadata": {},
   "outputs": [],
   "source": [
    "longs = (df_sid >= df_h)\n",
    "shorts = (df_sid <= df_l)\n",
    "\n",
    "longs = longs.astype(int)\n",
    "shorts = -shorts.astype(int)"
   ]
  },
  {
   "cell_type": "code",
   "execution_count": 47,
   "id": "6e495f99-5d7f-4edb-ace8-26290d4e5160",
   "metadata": {},
   "outputs": [
    {
     "data": {
      "text/html": [
       "<div>\n",
       "<style scoped>\n",
       "    .dataframe tbody tr th:only-of-type {\n",
       "        vertical-align: middle;\n",
       "    }\n",
       "\n",
       "    .dataframe tbody tr th {\n",
       "        vertical-align: top;\n",
       "    }\n",
       "\n",
       "    .dataframe thead th {\n",
       "        text-align: right;\n",
       "    }\n",
       "</style>\n",
       "<table border=\"1\" class=\"dataframe\">\n",
       "  <thead>\n",
       "    <tr style=\"text-align: right;\">\n",
       "      <th>Sid</th>\n",
       "      <th>FIBBG000C2V3D6</th>\n",
       "    </tr>\n",
       "    <tr>\n",
       "      <th>Date</th>\n",
       "      <th></th>\n",
       "    </tr>\n",
       "  </thead>\n",
       "  <tbody>\n",
       "    <tr>\n",
       "      <th>2017-01-03</th>\n",
       "      <td>44.367</td>\n",
       "    </tr>\n",
       "    <tr>\n",
       "      <th>2017-01-04</th>\n",
       "      <td>44.950</td>\n",
       "    </tr>\n",
       "    <tr>\n",
       "      <th>2017-01-05</th>\n",
       "      <td>44.415</td>\n",
       "    </tr>\n",
       "    <tr>\n",
       "      <th>2017-01-06</th>\n",
       "      <td>45.799</td>\n",
       "    </tr>\n",
       "    <tr>\n",
       "      <th>2017-01-09</th>\n",
       "      <td>45.942</td>\n",
       "    </tr>\n",
       "    <tr>\n",
       "      <th>...</th>\n",
       "      <td>...</td>\n",
       "    </tr>\n",
       "    <tr>\n",
       "      <th>2023-02-16</th>\n",
       "      <td>148.280</td>\n",
       "    </tr>\n",
       "    <tr>\n",
       "      <th>2023-02-17</th>\n",
       "      <td>148.260</td>\n",
       "    </tr>\n",
       "    <tr>\n",
       "      <th>2023-02-21</th>\n",
       "      <td>NaN</td>\n",
       "    </tr>\n",
       "    <tr>\n",
       "      <th>2023-02-22</th>\n",
       "      <td>NaN</td>\n",
       "    </tr>\n",
       "    <tr>\n",
       "      <th>2023-02-23</th>\n",
       "      <td>NaN</td>\n",
       "    </tr>\n",
       "  </tbody>\n",
       "</table>\n",
       "<p>1546 rows × 1 columns</p>\n",
       "</div>"
      ],
      "text/plain": [
       "Sid         FIBBG000C2V3D6\n",
       "Date                      \n",
       "2017-01-03          44.367\n",
       "2017-01-04          44.950\n",
       "2017-01-05          44.415\n",
       "2017-01-06          45.799\n",
       "2017-01-09          45.942\n",
       "...                    ...\n",
       "2023-02-16         148.280\n",
       "2023-02-17         148.260\n",
       "2023-02-21             NaN\n",
       "2023-02-22             NaN\n",
       "2023-02-23             NaN\n",
       "\n",
       "[1546 rows x 1 columns]"
      ]
     },
     "execution_count": 47,
     "metadata": {},
     "output_type": "execute_result"
    }
   ],
   "source": [
    "df_sid"
   ]
  },
  {
   "cell_type": "code",
   "execution_count": 48,
   "id": "17bad316-280f-4ffe-bc5b-93143f7d921d",
   "metadata": {},
   "outputs": [
    {
     "data": {
      "text/html": [
       "<div>\n",
       "<style scoped>\n",
       "    .dataframe tbody tr th:only-of-type {\n",
       "        vertical-align: middle;\n",
       "    }\n",
       "\n",
       "    .dataframe tbody tr th {\n",
       "        vertical-align: top;\n",
       "    }\n",
       "\n",
       "    .dataframe thead th {\n",
       "        text-align: right;\n",
       "    }\n",
       "</style>\n",
       "<table border=\"1\" class=\"dataframe\">\n",
       "  <thead>\n",
       "    <tr style=\"text-align: right;\">\n",
       "      <th>Sid</th>\n",
       "      <th>FIBBG000C2V3D6</th>\n",
       "    </tr>\n",
       "    <tr>\n",
       "      <th>Date</th>\n",
       "      <th></th>\n",
       "    </tr>\n",
       "  </thead>\n",
       "  <tbody>\n",
       "    <tr>\n",
       "      <th>2017-01-03</th>\n",
       "      <td>True</td>\n",
       "    </tr>\n",
       "    <tr>\n",
       "      <th>2017-01-04</th>\n",
       "      <td>True</td>\n",
       "    </tr>\n",
       "    <tr>\n",
       "      <th>2017-01-05</th>\n",
       "      <td>False</td>\n",
       "    </tr>\n",
       "    <tr>\n",
       "      <th>2017-01-06</th>\n",
       "      <td>True</td>\n",
       "    </tr>\n",
       "    <tr>\n",
       "      <th>2017-01-09</th>\n",
       "      <td>True</td>\n",
       "    </tr>\n",
       "    <tr>\n",
       "      <th>...</th>\n",
       "      <td>...</td>\n",
       "    </tr>\n",
       "    <tr>\n",
       "      <th>2023-02-16</th>\n",
       "      <td>False</td>\n",
       "    </tr>\n",
       "    <tr>\n",
       "      <th>2023-02-17</th>\n",
       "      <td>False</td>\n",
       "    </tr>\n",
       "    <tr>\n",
       "      <th>2023-02-21</th>\n",
       "      <td>False</td>\n",
       "    </tr>\n",
       "    <tr>\n",
       "      <th>2023-02-22</th>\n",
       "      <td>False</td>\n",
       "    </tr>\n",
       "    <tr>\n",
       "      <th>2023-02-23</th>\n",
       "      <td>False</td>\n",
       "    </tr>\n",
       "  </tbody>\n",
       "</table>\n",
       "<p>1546 rows × 1 columns</p>\n",
       "</div>"
      ],
      "text/plain": [
       "Sid         FIBBG000C2V3D6\n",
       "Date                      \n",
       "2017-01-03            True\n",
       "2017-01-04            True\n",
       "2017-01-05           False\n",
       "2017-01-06            True\n",
       "2017-01-09            True\n",
       "...                    ...\n",
       "2023-02-16           False\n",
       "2023-02-17           False\n",
       "2023-02-21           False\n",
       "2023-02-22           False\n",
       "2023-02-23           False\n",
       "\n",
       "[1546 rows x 1 columns]"
      ]
     },
     "execution_count": 48,
     "metadata": {},
     "output_type": "execute_result"
    }
   ],
   "source": [
    "(df_sid >= df_h)"
   ]
  },
  {
   "cell_type": "code",
   "execution_count": null,
   "id": "a8034f11-7629-45fa-a178-839c22367ee3",
   "metadata": {},
   "outputs": [],
   "source": []
  }
 ],
 "metadata": {
  "kernelspec": {
   "display_name": "Python 3.9",
   "language": "python",
   "name": "python3"
  },
  "language_info": {
   "codemirror_mode": {
    "name": "ipython",
    "version": 3
   },
   "file_extension": ".py",
   "mimetype": "text/x-python",
   "name": "python",
   "nbconvert_exporter": "python",
   "pygments_lexer": "ipython3",
   "version": "3.9.12"
  }
 },
 "nbformat": 4,
 "nbformat_minor": 5
}
